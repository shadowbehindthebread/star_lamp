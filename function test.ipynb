{
 "cells": [
  {
   "cell_type": "code",
   "execution_count": 1,
   "id": "b6988df3",
   "metadata": {},
   "outputs": [],
   "source": [
    "import numpy as np\n",
    "import math\n",
    "from PIL import Image\n",
    "Image.MAX_IMAGE_PIXELS = None # working with very high def images"
   ]
  },
  {
   "cell_type": "code",
   "execution_count": 2,
   "id": "d345a2ff",
   "metadata": {},
   "outputs": [],
   "source": [
    "# just for my use\n",
    "import timeit"
   ]
  },
  {
   "cell_type": "code",
   "execution_count": 3,
   "id": "93c231b2",
   "metadata": {},
   "outputs": [],
   "source": [
    "mercury0 = 'pics/mercury1.png'"
   ]
  },
  {
   "cell_type": "code",
   "execution_count": 4,
   "id": "94398c4a",
   "metadata": {},
   "outputs": [],
   "source": [
    "moon0 = 'pics/moonbump4k.jpg'"
   ]
  },
  {
   "cell_type": "code",
   "execution_count": 5,
   "id": "117884cf",
   "metadata": {},
   "outputs": [],
   "source": [
    "def load_data(img_path = mercury0):\n",
    "    ''' \n",
    "    A function that loads an image from a file and converts it into a 1D array.\n",
    "    \n",
    "    Parameters\n",
    "    ----------\n",
    "    img_path: String, optional\n",
    "        String file path to image location (default demo file)   \n",
    "        \n",
    "    Returns\n",
    "    -------\n",
    "    img1D: array \n",
    "        1D array of original pixel values\n",
    "    '''\n",
    "    \n",
    "    image = Image.open(img_path)\n",
    "    img1D = np.array(image.getdata())\n",
    "     \n",
    "    return img1D"
   ]
  },
  {
   "cell_type": "code",
   "execution_count": 58,
   "id": "31fe2767",
   "metadata": {},
   "outputs": [],
   "source": [
    "def scale_data(img_path = mercury0, min_thresh = 0, max_thresh = None, protrusion = 10.0, max_is_max = True):\n",
    "    ''' \n",
    "    A function that loads the 1D pixel data and scales it appropriately.\n",
    "    \n",
    "    ### AUDREY: should maybe just load 2D array and then flatten it?         \n",
    "    ## also take true false for if greater height is white or black (max or min)           \n",
    "    '''\n",
    "    \n",
    "    image = Image.open(img_path)\n",
    "    img1D = np.array(image.getdata())\n",
    "    \n",
    "    if max_thresh == None:\n",
    "        max_height = np.max(img1D)\n",
    "    else:\n",
    "        max_height = max_thresh\n",
    "        img1D[img1D > max_height] = max_height # set all vals abolve max to max\n",
    "        \n",
    "    if min_thresh != 0: \n",
    "        min_height = min_thresh\n",
    "    else:\n",
    "        min_height = np.min(img1D)\n",
    "        img1D = img1D - min_height # overwrite, subtract floor from all vals\n",
    "        \n",
    "    if (max_height == min_height): # try to avoid dividing by zero\n",
    "        height_scalar = 1\n",
    "    else:\n",
    "        height_scalar = protrusion / abs(max_height - min_height)\n",
    "    \n",
    "    img1D = img1D * height_scalar # now on a scale from 0 to 10 mm\n",
    "    \n",
    "    img2D = np.reshape(img1D, (image.size[1], image.size[0])) # finally shape the array into an image\n",
    "\n",
    "    return img2D\n"
   ]
  },
  {
   "cell_type": "code",
   "execution_count": 37,
   "id": "0b88d342",
   "metadata": {},
   "outputs": [],
   "source": [
    "img = scale_data()"
   ]
  },
  {
   "cell_type": "code",
   "execution_count": 28,
   "id": "10191488",
   "metadata": {},
   "outputs": [],
   "source": [
    "mercury0_p5 = scale_data(protrusion = 5)"
   ]
  },
  {
   "cell_type": "code",
   "execution_count": 7,
   "id": "7309525d",
   "metadata": {},
   "outputs": [],
   "source": [
    "img_mercury_thresh100 = scale_data(max_thresh = 100)"
   ]
  },
  {
   "cell_type": "code",
   "execution_count": 76,
   "id": "a19eb997",
   "metadata": {},
   "outputs": [],
   "source": [
    "img_moon0 = scale_data(img_path = moon0)"
   ]
  },
  {
   "cell_type": "code",
   "execution_count": 30,
   "id": "3d4b50b7",
   "metadata": {},
   "outputs": [],
   "source": [
    "apex, base, big_cols = define_shape()"
   ]
  },
  {
   "cell_type": "code",
   "execution_count": 89,
   "id": "3925beb4",
   "metadata": {},
   "outputs": [],
   "source": [
    "apex, base, big_cols = define_shape(resolution = 100)"
   ]
  },
  {
   "cell_type": "code",
   "execution_count": 31,
   "id": "656ca54a",
   "metadata": {},
   "outputs": [],
   "source": [
    "# calculator, aligns the heights with the tiangular sphere coords\n",
    "\n",
    "def data_overlay(image, icos_apex = apex, icos_base = base): # AUDREY PLUG IN SHAPE PLOT DATA HERE I THINK\n",
    "    \n",
    "    x_pixels = len(image[0])\n",
    "    y_pixels = len(image)\n",
    "\n",
    "    x_scale = x_pixels / 360 # for theta\n",
    "    y_scale = y_pixels / 180 # for phi\n",
    "    \n",
    "    print(\"x:\", x_pixels, \"y:\", y_pixels)\n",
    "    \n",
    "    sphere_radius = apex[0] # all radii should be the same right now\n",
    "    \n",
    "    # go vertex by vertex of triangle, ask the dataset what height it should be at, and push vertex to that height    \n",
    "    \n",
    "    grid_deg = big_cols # AUDREY FITURE OUT WHO NEEDS WHAT IN WHAT ORDER PLS\n",
    "    grid_px = np.zeros((len(grid_deg), len(grid_deg[0]), len(grid_deg[0][0])), dtype = np.ndarray) # pixel height array\n",
    "    # img = scale_data() # AUDREY DECIDE IF YOU'LL DO THIS\n",
    "    \n",
    "    for ii in range (len(grid_deg)): # which of the 5 big columns\n",
    "        for jj in range (len((grid_deg[0]))): # which row of a big column\n",
    "            for kk in range (len((grid_deg[0][0]))): # which entry (real column)\n",
    "                \n",
    "                # find the pixels this sphere thing corresponds to \n",
    "                \n",
    "                theta = grid_deg[ii][jj][kk][1] \n",
    "                phi = grid_deg[ii][jj][kk][2]\n",
    "                \n",
    "                x = int(math.floor(theta * x_scale) - 1) # turn it into an index to get a pixel from\n",
    "                y = int(math.floor(phi * y_scale) - 1)\n",
    "                \n",
    "                radius = image[y][x] + sphere_radius # we calculated this earlier, add to base radius of sphere\n",
    "                \n",
    "                sphere_coord = [radius, theta, phi]\n",
    "                cart_coord = spherical_to_cartesian(sphere_coord)\n",
    "                \n",
    "                # fill in pixel grid\n",
    "                grid_px[ii][jj][kk] = cart_coord\n",
    "                \n",
    "                # AUDREY FIX THE APEX AND BASE AND HAND THEM BACK!\n",
    "    \n",
    "    \n",
    "    # now do the apex and the base    \n",
    "    apex_x = int(math.floor(icos_apex[1] * x_scale) - 1) # turn it into an index to get a pixel from\n",
    "    apex_y = int(math.floor(icos_apex[2] * y_scale) - 1)\n",
    "                \n",
    "    apex_radius = image[apex_y][apex_x] + sphere_radius # we calculated this earlier\n",
    "                \n",
    "    apex_sphere = [apex_radius, icos_apex[1], icos_apex[2]]\n",
    "    apex_cart = spherical_to_cartesian(apex_sphere)\n",
    "    \n",
    "    base_x = int(math.floor(icos_base[1] * x_scale) - 1) # turn it into an index to get a pixel from\n",
    "    base_y = int(math.floor(icos_base[2] * y_scale) - 1)\n",
    "                \n",
    "    base_radius = image[base_y][base_x] + sphere_radius # we calculated this earlier\n",
    "                \n",
    "    base_sphere = [base_radius, icos_base[1], icos_base[2]]\n",
    "    base_cart = spherical_to_cartesian(base_sphere)\n",
    "    \n",
    "    return grid_px, apex_cart, base_cart                                "
   ]
  },
  {
   "cell_type": "code",
   "execution_count": 79,
   "id": "1b355f11",
   "metadata": {},
   "outputs": [
    {
     "name": "stdout",
     "output_type": "stream",
     "text": [
      "x: 4000 y: 2000\n"
     ]
    }
   ],
   "source": [
    "mesh_moon0, apex_moon0, base_moon0 = data_overlay(image = img_moon0)"
   ]
  },
  {
   "cell_type": "code",
   "execution_count": 82,
   "id": "ced8d36d",
   "metadata": {},
   "outputs": [
    {
     "name": "stdout",
     "output_type": "stream",
     "text": [
      "x: 23040 y: 11520\n"
     ]
    }
   ],
   "source": [
    "mesh_merc100, apex_merc100, base_merc100 = data_overlay(image = img_mercury_thresh100)"
   ]
  },
  {
   "cell_type": "code",
   "execution_count": 32,
   "id": "327b24b5",
   "metadata": {},
   "outputs": [
    {
     "name": "stdout",
     "output_type": "stream",
     "text": [
      "x: 23040 y: 11520\n"
     ]
    }
   ],
   "source": [
    "# RUN THIS LINE SECOND\n",
    "\n",
    "mesh, apex, base = data_overlay(image = mercury0_p5)"
   ]
  },
  {
   "cell_type": "markdown",
   "id": "27d1c1da",
   "metadata": {},
   "source": [
    "# Supporting Functions"
   ]
  },
  {
   "cell_type": "code",
   "execution_count": 10,
   "id": "68496fae",
   "metadata": {},
   "outputs": [],
   "source": [
    "# spherical to cartesian coordinate converter\n",
    "\n",
    "def spherical_to_cartesian(sphere_coord): \n",
    "    \n",
    "    radius = sphere_coord[0]\n",
    "    theta = sphere_coord[1] * math.pi / 180\n",
    "    phi = sphere_coord[2] * math.pi / 180\n",
    "    \n",
    "    x = radius * math.sin(phi) * math.cos(theta)\n",
    "    y = radius * math.sin(phi) * math.sin(theta)\n",
    "    z = radius * math.cos(phi)\n",
    "    \n",
    "    cart_coord = [x, y, z]\n",
    "    \n",
    "    return cart_coord"
   ]
  },
  {
   "cell_type": "code",
   "execution_count": 18,
   "id": "cbddb59e",
   "metadata": {},
   "outputs": [],
   "source": [
    "def stitch_triangles(A, B, C, D, lines): # A,B,C,D are the defined points of a parallelogram\n",
    "    # lines is the list to write strings of the file to\n",
    "    \n",
    "    #   A . B\n",
    "    #    .   .   < = my parallelogram :)\n",
    "    #     C . D\n",
    "    \n",
    "    # keywords with right amount of spacing\n",
    "    facet = '  facet' # two spaces before\n",
    "    outerloop = '    outer loop' # four spaces before, two words\n",
    "    vertex = '      vertex ' # six spaces before, one after\n",
    "    endloop = '    endloop' # four spaces before, one word\n",
    "    endfacet = '  endfacet' # two spaces before, one word\n",
    "    \n",
    "    lines.extend((facet, outerloop, vertex + str(A)[1:-1], vertex + str(C)[1:-1], vertex + str(D)[1:-1], endloop, endfacet))\n",
    "    lines.extend((facet, outerloop, vertex + str(A)[1:-1], vertex + str(D)[1:-1], vertex + str(B)[1:-1], endloop, endfacet))\n",
    "    \n",
    "    "
   ]
  },
  {
   "cell_type": "code",
   "execution_count": 57,
   "id": "5700aa13",
   "metadata": {},
   "outputs": [],
   "source": [
    "def make_file(lines): # lines of the file\n",
    "    \n",
    "    with open('m2.stl', 'w') as f: # AUDREY EVENTUALLY CHANGE NAME TO SOMETHING NICE\n",
    "        f.write('\\n'.join(lines))\n",
    "    "
   ]
  },
  {
   "cell_type": "markdown",
   "id": "5a1b2c1f",
   "metadata": {},
   "source": [
    "# Define Mesh - audrey you're working on this"
   ]
  },
  {
   "cell_type": "code",
   "execution_count": 29,
   "id": "351afd5d",
   "metadata": {},
   "outputs": [],
   "source": [
    "# build the sampling mesh\n",
    "\n",
    "def define_shape(resolution = 100, radius = 100.0): # AUDREY FIX THESE MAKE THEM GET USED\n",
    "    # AUDREY: n should be set to resolution, protrusion added here ???  \n",
    "    '''\n",
    "    resolution: int\n",
    "        how many facets along one edge of the original icosahedron \n",
    "    radius: float, optional\n",
    "        radius of base sphere in mm (default 100mm for now)\n",
    "    '''    \n",
    "    # SPHERICAL COORDS OF VERTICES - easier for me to deal with later bc I can just change radius!!\n",
    "    # ORDER: (r, 0, φ) defintions: 0 is right-hand sweep from x to y, φ is angle down from upwards z\n",
    "    # I made these coordinates\n",
    "    v0  = np.array([radius,   0, 180]) # base\n",
    "    v1  = np.array([radius,   0, 120])\n",
    "    v2  = np.array([radius, 324,  60])\n",
    "    v3  = np.array([radius,  72, 120])\n",
    "    v4  = np.array([radius,  36,  60])\n",
    "    v5  = np.array([radius, 144, 120])\n",
    "    v6  = np.array([radius, 108,  60])\n",
    "    v7  = np.array([radius, 216, 120])\n",
    "    v8  = np.array([radius, 180,  60])\n",
    "    v9  = np.array([radius, 288, 120])\n",
    "    v10 = np.array([radius, 252,  60])\n",
    "    v11 = np.array([radius,   0,   0]) # vertex\n",
    "        \n",
    "    apex = v11 # top of icos\n",
    "    base = v0 # bottom of icos\n",
    "    \n",
    "    # 10 horizontal pairs, bottom to top left to right: \n",
    "    band = [[v1, v3], [v2, v4], [v3, v5], [v4, v6], [v5, v7], [v6, v8], [v7, v9], [v8, v10], [v9, v1], [v10, v2]] \n",
    "    # hot damn I think I can populate the sphere without even using the top or botom of the icos in calculations\n",
    "    \n",
    "    n = resolution # sub triangle density per icos vertex (1 would correspond to just the icos) # AUDREY SET TO RESOLUTION\n",
    "    \n",
    "    # all the steps will be the same, so calculate it once: \n",
    "    theta_step = (v3[1] - v1[1]) / n # calculate one step in theta here (distance / #steps)\n",
    "    phi_step = 180 / (3*n)\n",
    "    \n",
    "    big_squares = np.zeros(10, dtype = np.ndarray) # store (n x n) local population squares in here, concat later\n",
    "    \n",
    "    for i in range(len(band)): # there are 10 sub bands (\"vectors\") in the list that defines the icos middle band  \n",
    "        #   A . B\n",
    "        #    .   .   <= my parallelogram :)\n",
    "        #     C . D\n",
    "    \n",
    "        A = band[i][0] # left point\n",
    "        B = band[i][1] # right point  \n",
    "        \n",
    "        pop = np.zeros((n, n), dtype = np.ndarray) # make a temp 2D grid to be populated, local population\n",
    "          \n",
    "        pop[0][0] = A # set grandparent/base node to be first entry\n",
    "        \n",
    "        # calculate the diagonal entries:\n",
    "        for ii in range(n): # (r, 0, φ)\n",
    "            theta = (A[1] + theta_step * ii) % 360 # starting (left) angle (0a) with n equal spacings to the next point's 0.\n",
    "            phi = (A[2]) % 180   # both A and B have the same altitude/same φ, so it doesn't matter which one I choose\n",
    "            pop[ii][ii] = [1, theta, phi] # fill in the diagonal with the points equally spaced on the horizontal line\n",
    "            \n",
    "        for ii in range(n): \n",
    "            parent = pop[ii][ii] # the rest of the entries in the mesh will be calculated from the horizontal parent nodes\n",
    "            \n",
    "            # children above: parent index ii has ii children above it. \n",
    "            # node 0 is the grandparent node. it is on a vertex of the icos and is at the top left of matrix. \n",
    "            for jj in range (0, ii):\n",
    "                \n",
    "                # AUDREY TRY MESSING WITH THIS THETA !!! and the lower theta too if it does anything\n",
    "                theta = (parent[1] - abs(jj - ii) * 0.5 * theta_step) % 360 # distance from diag corresponds to half step\n",
    "                phi = (parent[2] - phi_step * (ii - jj)) % 180 # distance from diagonal corresponds to one phi step\n",
    "                pop[jj][ii] = [1, theta, phi] # first index used to be ii - jj but idt that's right\n",
    "                \n",
    "            # children below: parent index ii has (n - 1) - ii children below it. \n",
    "            # the sum of parent's index plus number of children is (n - 1) !\n",
    "            for jj in range(ii + 1, n): # here we skip the last parent because it has no lower kids, being at (n,n)\n",
    "                \n",
    "                theta = (parent[1] + abs(jj - ii) * 0.5 * theta_step) % 360 \n",
    "                phi = (parent[2] + phi_step * (jj - ii)) % 180\n",
    "                pop[jj][ii] = [1, theta, phi] \n",
    "             \n",
    "        big_squares[i] = pop # fill big squares temp array with our ten local pop arrays                \n",
    "       \n",
    "    big_cols = np.zeros(5, dtype = np.ndarray) # store the five big columns of the grid array, made of big squares\n",
    "    \n",
    "    for i in range (5): # fill in the big grid array in chunks\n",
    "        top = big_squares[2 * i + 1] # odd indices in big_squares correspond to top row of big grid array\n",
    "        bottom = big_squares[2 * i] # even indices in big_squares correspond to bottom row of grid\n",
    "        big_cols[i] = np.concatenate((top, bottom), axis = 0, dtype = np.ndarray) # build 2n tall column\n",
    "        \n",
    "    return apex, base, big_cols # the bulk of the shape, and then the top and bottom of the icos\n",
    "    # interesting that the total number of points is 10n^2 + 2 (with n being the resolution)\n",
    "            "
   ]
  },
  {
   "cell_type": "markdown",
   "id": "35118f66",
   "metadata": {},
   "source": [
    "# STL Constructor - work on this next"
   ]
  },
  {
   "cell_type": "code",
   "execution_count": 56,
   "id": "e929d448",
   "metadata": {},
   "outputs": [],
   "source": [
    "# STL constructor -- THIS IS A REWRITE !!!\n",
    "\n",
    "def constructor(mesh = mesh, apex = apex, base = base):\n",
    "    \n",
    "    n = len(mesh[0][0]) # should be 4 rn # AUDREY CHANGE NAME TO RESOLUTION \n",
    "    print(n)\n",
    "    \n",
    "    lines = [] # initiate list to hold lines of the STL file\n",
    "    lines.append('solid') # first line is \"solid\"\n",
    "    \n",
    "    for ii in range (len(mesh)): # 5 big columns\n",
    "        \n",
    "        for jj in range (0, 2*n - 1): # jj from 0 to 2*n - 2\n",
    "            \n",
    "            for kk in range (0, n - 1): # kk from 0 to n - 2\n",
    "            \n",
    "                # do the general logical case. safe case.\n",
    "                A = mesh[ii][jj][kk] # calcualte A every time we change kk value\n",
    "                B = mesh[ii][jj][kk + 1]\n",
    "                C = mesh[ii][jj + 1][kk]\n",
    "                D = mesh[ii][jj + 1][kk + 1]\n",
    "                \n",
    "                # AUDREY LOOP THE TRIANGLES EVERY TIME WE CREATE A SET OF A, B, C, D, AND RIGHT BEFORE WE CHANGE kk\n",
    "                stitch_triangles(A, B, C, D, lines)\n",
    "        \n",
    "            kk = n - 1 # manually set kk for the weird right column cases\n",
    "            A = mesh[ii][jj][kk] # new kk, new A\n",
    "            \n",
    "            # CASE: OPEN TOP CORNER\n",
    "            if (jj < n): # last col of segment, and in the part that sticks above the next segment\n",
    "                \n",
    "                # SUBCASE: VERTEX CASE\n",
    "                if (jj == 0): # every segment's top right most entry must connect to the icos vertex \n",
    "                    B = apex # AUDREY swap the apex and base if the file looks werid !!\n",
    "                \n",
    "                # SUBCASE: \"GENERAL\" OPEN TOP CORNER CASE\n",
    "                else: \n",
    "                    B = mesh[(ii + 1) % 5][0][n - jj] \n",
    "                \n",
    "                # last two points calculated the same way for all OPEN CORNER\n",
    "                C = mesh[ii][jj + 1][n - 1]\n",
    "                D = mesh[(ii + 1) % 5][0][n - 1 - jj]\n",
    "            \n",
    "            # CASE: SEGMENT SPANNING\n",
    "            else: # (jj >= n)\n",
    "                B = mesh[(ii + 1) % 5][jj - n][0]\n",
    "                C = mesh[ii][jj + 1][n - 1]\n",
    "                D = mesh[(ii + 1) % 5][jj - n + 1][0]\n",
    "        \n",
    "            # AUDREY LOOP TRIANGLES HERE, NOW WE'RE GONNA CALCULATE NEW INDICES\n",
    "            stitch_triangles(A, B, C, D, lines)\n",
    "            \n",
    "            \n",
    "        # CASE: BOTTOM ROW\n",
    "        jj = 2*n - 1 # manually set jj for the weird bottom row cases\n",
    "        \n",
    "        # SUBCASE: VERTEX CASE\n",
    "        kk = 0 # manually set kk for vertex case\n",
    "        \n",
    "        A = mesh[ii][jj][kk] # new kk, new A\n",
    "        B = mesh[ii][2*n - 1][1] # AUDREY MAKE IT WORK WITH RESOLUTION = 1\n",
    "        C = base # make one triangle that connects with the vertex\n",
    "        D = mesh[(ii + 1) % 5][2*n - 1][0]\n",
    "        \n",
    "        # AUDREY STITCH TRIANGLES\n",
    "        stitch_triangles(A, B, C, D, lines)\n",
    "        \n",
    "        # SUBCASE: \"GENERAL\" OPEN BOTTOM CORNER CASE\n",
    "        for kk in range (1, n - 1): # will go from 1 to n - 2\n",
    "            A = mesh[ii][jj][kk] # new kk, new A\n",
    "            B = mesh[ii][jj][kk + 1]\n",
    "            C = mesh[ii][n - kk][kk]\n",
    "            D = mesh[ii][n - kk - 1][kk] \n",
    "            \n",
    "            # AUDREY STITCH TRIANGLES\n",
    "            stitch_triangles(A, B, C, D, lines)\n",
    "        \n",
    "        # SUBCASE: BOTTOM RIGHT \"WEIRD FLAT TRIANGLE\" CASE\n",
    "        kk = n - 1 # manually set kk for the bottom right column case\n",
    "            \n",
    "        A = mesh[ii][jj][kk] # new kk, new A    \n",
    "        B = mesh[(ii + 1) % 5][n - 1][0] # requires three points (B, D, C) to be in a line\n",
    "        C = mesh[(ii + 1) % 5][n][0]\n",
    "        D = mesh[(ii + 1) % 5][n + 1][0]\n",
    "        \n",
    "        # AUDREY STITCH TRIANGLES\n",
    "        stitch_triangles(A, B, C, D, lines)\n",
    "       \n",
    "    lines.append('endsolid') # last line of the STL file\n",
    "    \n",
    "    make_file(lines) # writes the file and downloads it\n",
    "\n",
    "\n",
    "# AUDREY GO MODULO EVERY INDEX JUST IN CASE OF SPILLOVERS FOR LOW RESOLUTIONS ??? maybe unnecessary let's find out\n",
    "                    \n",
    "                "
   ]
  },
  {
   "cell_type": "markdown",
   "id": "7bac3e00",
   "metadata": {},
   "source": [
    "# - - - - - - - - - - - - - - - - - - - - - - R E N D E R - - - - - - - - - - - - - - - - - - - - - -"
   ]
  },
  {
   "cell_type": "code",
   "execution_count": 50,
   "id": "f47c65aa",
   "metadata": {},
   "outputs": [],
   "source": [
    "# load pic\n",
    "mercury0 = 'pics/mercury1.png'"
   ]
  },
  {
   "cell_type": "code",
   "execution_count": 59,
   "id": "fa0542f0",
   "metadata": {},
   "outputs": [],
   "source": [
    "# scale pic height values\n",
    "img = scale_data()"
   ]
  },
  {
   "cell_type": "code",
   "execution_count": 60,
   "id": "20d7d293",
   "metadata": {},
   "outputs": [],
   "source": [
    "# define points of a mesh of a certain radius and resolution\n",
    "apex, base, big_cols = define_shape()"
   ]
  },
  {
   "cell_type": "code",
   "execution_count": 61,
   "id": "0749197a",
   "metadata": {},
   "outputs": [
    {
     "name": "stdout",
     "output_type": "stream",
     "text": [
      "x: 23040 y: 11520\n"
     ]
    }
   ],
   "source": [
    "# drape the image height data onto the mesh\n",
    "mesh, apex, base = data_overlay(image = img)"
   ]
  },
  {
   "cell_type": "code",
   "execution_count": 62,
   "id": "eddf9a04",
   "metadata": {},
   "outputs": [
    {
     "name": "stdout",
     "output_type": "stream",
     "text": [
      "100\n"
     ]
    }
   ],
   "source": [
    "# construct and write an STL file\n",
    "constructor()"
   ]
  },
  {
   "cell_type": "markdown",
   "id": "d51c131f",
   "metadata": {},
   "source": [
    "this is a divider heheheh\n",
    "-\n",
    "-\n",
    "-\n",
    "-\n",
    "-\n",
    "-\n",
    "-\n",
    "-\n",
    "-\n",
    "\n",
    "below is reference \n",
    "\n",
    "\n",
    "\n"
   ]
  },
  {
   "cell_type": "code",
   "execution_count": null,
   "id": "0b168e24",
   "metadata": {},
   "outputs": [],
   "source": [
    "# AUDREY NOTES:\n",
    "# PUT A RANDOM PICTURE IN\n",
    "# LOOK AT THETA SCALING IN THAT ONE PLACE\n",
    "# LOOK AT EXISTING PYTHON SPHERE MESH !!"
   ]
  },
  {
   "cell_type": "code",
   "execution_count": null,
   "id": "ce39bddd",
   "metadata": {},
   "outputs": [],
   "source": [
    "    ''' \n",
    "    A function that plots image data from a 2D array and optional display parameters. Returns figure and axis objects of plot.\n",
    "    \n",
    "    Parameters\n",
    "    ----------\n",
    "    image: Array\n",
    "        2D array of image color values to be plotted\n",
    "    figsize: int tuple, optional \n",
    "        x and y dimensions of the figure size (default (15,13))\n",
    "    cmap: String, optional \n",
    "        color map for the image plotted (default = 'gray_r')\n",
    "    scale: double, optional \n",
    "        image scale factor used to determine vmin and vmax if they are not provided (default = 0.5)\n",
    "    colorbar: bool, optional\n",
    "        include a color for the image plot (default False)\n",
    "    header: Header, optional\n",
    "        Header object corresponding to the image (default None)\n",
    "    wcs: WCS, optional\n",
    "        World Coordinate System corresponding to the image (default None)\n",
    "    grid: bool, optional\n",
    "        include a grid overlaid on the image (default False)\n",
    "    **kwargs: dict, optional\n",
    "        keyword arguments for optional plot features\n",
    "        \n",
    "    Returns\n",
    "    -------\n",
    "    plot_comps: tuple \n",
    "        Tuple of the figure and axis plot components created\n",
    "    '''"
   ]
  }
 ],
 "metadata": {
  "kernelspec": {
   "display_name": "a330",
   "language": "python",
   "name": "a330"
  },
  "language_info": {
   "codemirror_mode": {
    "name": "ipython",
    "version": 3
   },
   "file_extension": ".py",
   "mimetype": "text/x-python",
   "name": "python",
   "nbconvert_exporter": "python",
   "pygments_lexer": "ipython3",
   "version": "3.8.11"
  }
 },
 "nbformat": 4,
 "nbformat_minor": 5
}
